{
 "cells": [
  {
   "cell_type": "markdown",
   "metadata": {},
   "source": [
    "# WeatherPy\n",
    "----\n",
    "\n",
    "#### Note\n",
    "* Instructions have been included for each segment. You do not have to follow them exactly, but they are included to help you think through the steps."
   ]
  },
  {
   "cell_type": "code",
   "execution_count": 5,
   "metadata": {
    "scrolled": true
   },
   "outputs": [],
   "source": [
    "# Dependencies and Setup\n",
    "import matplotlib.pyplot as plt\n",
    "import pandas as pd\n",
    "import numpy as np\n",
    "import requests\n",
    "import time\n",
    "\n",
    "# Import API key\n",
    "from api_keys import api_key\n",
    "\n",
    "# Incorporated citipy to determine city based on latitude and longitude\n",
    "from citipy import citipy\n",
    "\n",
    "# Output File (CSV)\n",
    "output_data_file = \"output_data/cities.csv\"\n",
    "\n",
    "# Range of latitudes and longitudes\n",
    "lat_range = (-90, 90)\n",
    "lng_range = (-180, 180)"
   ]
  },
  {
   "cell_type": "markdown",
   "metadata": {},
   "source": [
    "## Generate Cities List"
   ]
  },
  {
   "cell_type": "code",
   "execution_count": 6,
   "metadata": {},
   "outputs": [
    {
     "data": {
      "text/plain": [
       "599"
      ]
     },
     "execution_count": 6,
     "metadata": {},
     "output_type": "execute_result"
    }
   ],
   "source": [
    "# List for holding lat_lngs and cities\n",
    "lat_lngs = []\n",
    "cities = []\n",
    "\n",
    "# Create a set of random lat and lng combinations\n",
    "lats = np.random.uniform(low=-90.000, high=90.000, size=1500)\n",
    "lngs = np.random.uniform(low=-180.000, high=180.000, size=1500)\n",
    "lat_lngs = zip(lats, lngs)\n",
    "\n",
    "# Identify nearest city for each lat, lng combination\n",
    "for lat_lng in lat_lngs:\n",
    "    city = citipy.nearest_city(lat_lng[0], lat_lng[1]).city_name\n",
    "    \n",
    "    # If the city is unique, then add it to a our cities list\n",
    "    if city not in cities:\n",
    "        cities.append(city)\n",
    "\n",
    "# Print the city count to confirm sufficient count\n",
    "len(cities)"
   ]
  },
  {
   "cell_type": "markdown",
   "metadata": {},
   "source": [
    "### Perform API Calls\n",
    "* Perform a weather check on each city using a series of successive API calls.\n",
    "* Include a print log of each city as it'sbeing processed (with the city number and city name).\n"
   ]
  },
  {
   "cell_type": "code",
   "execution_count": 7,
   "metadata": {},
   "outputs": [],
   "source": [
    "# URL for api call\n",
    "url = \"http://api.openweathermap.org/data/2.5/weather?\"\n",
    "units = \"imperial\"\n",
    "\n",
    "# # Testing\n",
    "# test_url = f\"{url}appid={api_key}&units={units}&q=\" #need units for proper temperature in F\n",
    "# # test_url = f\"{url}appid={api_key}&q=\" #without units\n",
    "# response = requests.get(test_url + \"Chula Vista\").json()\n",
    "# response\n",
    "\n",
    "main_url = f\"{url}appid={api_key}&units={units}&q=\""
   ]
  },
  {
   "cell_type": "code",
   "execution_count": null,
   "metadata": {
    "scrolled": true
   },
   "outputs": [
    {
     "name": "stdout",
     "output_type": "stream",
     "text": [
      "Beginning Data Retrieval\n",
      "-----------------------------\n",
      "Processing Record 1 of Set 1 | butaritari\n",
      "Processing Record 2 of Set 1 | sentyabrskiy\n",
      "City not found. Skipping...\n",
      "Processing Record 2 of Set 1 | rikitea\n",
      "Processing Record 3 of Set 1 | codrington\n",
      "Processing Record 4 of Set 1 | taolanaro\n",
      "City not found. Skipping...\n",
      "Processing Record 4 of Set 1 | talnakh\n",
      "Processing Record 5 of Set 1 | brodokalmak\n",
      "Processing Record 6 of Set 1 | pisco\n",
      "Processing Record 7 of Set 1 | ushuaia\n",
      "Processing Record 8 of Set 1 | bredasdorp\n",
      "Processing Record 9 of Set 1 | albany\n",
      "Processing Record 10 of Set 1 | bridlington\n",
      "Processing Record 11 of Set 1 | la palma\n",
      "Processing Record 12 of Set 1 | bandarbeyla\n",
      "Processing Record 13 of Set 1 | lompoc\n",
      "Processing Record 14 of Set 1 | new norfolk\n",
      "Processing Record 15 of Set 1 | plettenberg bay\n",
      "Processing Record 16 of Set 1 | alofi\n",
      "Processing Record 17 of Set 1 | padang\n",
      "Processing Record 18 of Set 1 | maharajganj\n",
      "Processing Record 19 of Set 1 | palmer\n",
      "Processing Record 20 of Set 1 | mys shmidta\n",
      "City not found. Skipping...\n",
      "Processing Record 20 of Set 1 | barrow\n",
      "Processing Record 21 of Set 1 | hithadhoo\n",
      "Processing Record 22 of Set 1 | vaini\n",
      "Processing Record 23 of Set 1 | castro\n",
      "Processing Record 24 of Set 1 | rupert\n",
      "Processing Record 25 of Set 1 | samusu\n",
      "City not found. Skipping...\n",
      "Processing Record 25 of Set 1 | gangapur\n",
      "Processing Record 26 of Set 1 | tiznit\n",
      "Processing Record 27 of Set 1 | puerto ayora\n",
      "Processing Record 28 of Set 1 | souillac\n",
      "Processing Record 29 of Set 1 | salvador\n",
      "Processing Record 30 of Set 1 | provideniya\n",
      "Processing Record 31 of Set 1 | cam ranh\n",
      "Processing Record 32 of Set 1 | kapaa\n",
      "Processing Record 33 of Set 1 | busselton\n",
      "Processing Record 34 of Set 1 | georgetown\n",
      "Processing Record 35 of Set 1 | tuatapere\n",
      "Processing Record 36 of Set 1 | avarua\n",
      "Processing Record 37 of Set 1 | belushya guba\n",
      "City not found. Skipping...\n",
      "Processing Record 37 of Set 1 | dikson\n",
      "Processing Record 38 of Set 1 | ponta do sol\n",
      "Processing Record 39 of Set 1 | faya\n",
      "Processing Record 40 of Set 1 | biltine\n",
      "Processing Record 41 of Set 1 | khatanga\n",
      "Processing Record 42 of Set 1 | cabo san lucas\n",
      "Processing Record 43 of Set 1 | kenora\n",
      "Processing Record 44 of Set 1 | buchanan\n",
      "Processing Record 45 of Set 1 | faanui\n",
      "Processing Record 46 of Set 1 | basco\n",
      "Processing Record 47 of Set 1 | saleaula\n",
      "City not found. Skipping...\n",
      "Processing Record 47 of Set 1 | port alfred\n",
      "Processing Record 48 of Set 1 | kisangani\n",
      "Processing Record 49 of Set 1 | chulakivka\n"
     ]
    }
   ],
   "source": [
    "# Lists creation\n",
    "name = []\n",
    "cloudiness = []\n",
    "country = []\n",
    "date = []\n",
    "humidity = []\n",
    "lat = []\n",
    "lng = []\n",
    "max_temp = []\n",
    "wind_speed = []\n",
    "\n",
    "# Call counters\n",
    "record = 1\n",
    "max_calls = 50 # setting max call limit, wasn't retrieving all records without\n",
    "sets = 1\n",
    "\n",
    "# Retrieval print statement\n",
    "print(f\"Beginning Data Retrieval\")\n",
    "print(f\"-----------------------------\")\n",
    "\n",
    "# Loop to gather required info from cities\n",
    "# Adding Try statement to skip city where no data is found\n",
    "for city in cities:\n",
    "    if record == max_calls:\n",
    "        time.sleep(60)\n",
    "        sets +=1\n",
    "        records = 0\n",
    "    \n",
    "    print(f\"Processing Record {record} of Set {sets} | {city}\")\n",
    "    \n",
    "    try:\n",
    "        response = requests.get(main_url + city).json()\n",
    "        name.append(response[\"name\"])\n",
    "        cloudiness.append(response[\"clouds\"][\"all\"])\n",
    "        country.append(response[\"sys\"][\"country\"])\n",
    "        date.append(response[\"dt\"])\n",
    "        humidity.append(response[\"main\"][\"humidity\"])\n",
    "        lat.append(response[\"coord\"][\"lat\"])\n",
    "        lat.append(response[\"coord\"][\"lon\"])\n",
    "        max_temp.append(response[\"main\"][\"temp_max\"])\n",
    "        wind_speed.append(response[\"wind\"][\"speed\"])\n",
    "#         city_record = response[\"name\"]\n",
    "        \n",
    "        record +=1\n",
    "        \n",
    "    except:\n",
    "        print(\"City not found. Skipping...\")\n",
    "        "
   ]
  },
  {
   "cell_type": "markdown",
   "metadata": {},
   "source": [
    "### Convert Raw Data to DataFrame\n",
    "* Export the city data into a .csv.\n",
    "* Display the DataFrame"
   ]
  },
  {
   "cell_type": "code",
   "execution_count": null,
   "metadata": {},
   "outputs": [],
   "source": []
  },
  {
   "cell_type": "code",
   "execution_count": null,
   "metadata": {},
   "outputs": [],
   "source": []
  },
  {
   "cell_type": "markdown",
   "metadata": {},
   "source": [
    "### Plotting the Data\n",
    "* Use proper labeling of the plots using plot titles (including date of analysis) and axes labels.\n",
    "* Save the plotted figures as .pngs."
   ]
  },
  {
   "cell_type": "markdown",
   "metadata": {},
   "source": [
    "#### Latitude vs. Temperature Plot"
   ]
  },
  {
   "cell_type": "code",
   "execution_count": null,
   "metadata": {},
   "outputs": [],
   "source": []
  },
  {
   "cell_type": "markdown",
   "metadata": {},
   "source": [
    "#### Latitude vs. Humidity Plot"
   ]
  },
  {
   "cell_type": "code",
   "execution_count": null,
   "metadata": {},
   "outputs": [],
   "source": []
  },
  {
   "cell_type": "markdown",
   "metadata": {},
   "source": [
    "#### Latitude vs. Cloudiness Plot"
   ]
  },
  {
   "cell_type": "code",
   "execution_count": null,
   "metadata": {},
   "outputs": [],
   "source": []
  },
  {
   "cell_type": "markdown",
   "metadata": {},
   "source": [
    "#### Latitude vs. Wind Speed Plot"
   ]
  },
  {
   "cell_type": "code",
   "execution_count": null,
   "metadata": {},
   "outputs": [],
   "source": []
  },
  {
   "cell_type": "code",
   "execution_count": null,
   "metadata": {},
   "outputs": [],
   "source": []
  }
 ],
 "metadata": {
  "anaconda-cloud": {},
  "kernel_info": {
   "name": "python3"
  },
  "kernelspec": {
   "display_name": "Python 3",
   "language": "python",
   "name": "python3"
  },
  "language_info": {
   "codemirror_mode": {
    "name": "ipython",
    "version": 3
   },
   "file_extension": ".py",
   "mimetype": "text/x-python",
   "name": "python",
   "nbconvert_exporter": "python",
   "pygments_lexer": "ipython3",
   "version": "3.6.8"
  },
  "nteract": {
   "version": "0.12.3"
  }
 },
 "nbformat": 4,
 "nbformat_minor": 2
}
